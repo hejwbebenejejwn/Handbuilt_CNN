{
 "cells": [
  {
   "cell_type": "markdown",
   "metadata": {
    "collapsed": false
   },
   "source": [
    "# FDU PRML 2023 Fall Assignment 2.1\n",
    "\n",
    "Name: <your name> 王炜\n",
    "Student ID: <your student id> 21300190011\n",
    "\n",
    "<font color='red'>**Deadline: 2023-11-20 23:59**</font>\n",
    "<font color='red'>**Overall score weight: 70/100**</font>\n",
    "\n",
    "In this semester, we are going to complete 3 assignments, each may contain **2-3 parts**. This is the second (and the last) part of the second assignment, in which we will get to implement our own Pytorch-like library.\n",
    "\n",
    "## 1. FDUNN: your toy torch-like deep learning library (40 points)\n",
    "\n",
    "In this assignment, you will fist implement your own torch-like deep learning library with `numpy`, named `fdunn`.\n",
    "\n",
    "PyTorch: [Link](https://pytorch.org/)"
   ]
  },
  {
   "cell_type": "code",
   "execution_count": 16,
   "metadata": {
    "collapsed": false,
    "pycharm": {
     "name": "#%%\n"
    }
   },
   "outputs": [
    {
     "name": "stdout",
     "output_type": "stream",
     "text": [
      "The autoreload extension is already loaded. To reload it, use:\n",
      "  %reload_ext autoreload\n"
     ]
    }
   ],
   "source": [
    "# setup code, auto reload your .py file\n",
    "%load_ext autoreload\n",
    "%autoreload 2"
   ]
  },
  {
   "cell_type": "code",
   "execution_count": 17,
   "metadata": {
    "collapsed": false,
    "pycharm": {
     "name": "#%%\n"
    }
   },
   "outputs": [],
   "source": [
    "# numpy\n",
    "import numpy as np\n",
    "\n",
    "np.random.seed(233)"
   ]
  },
  {
   "cell_type": "code",
   "execution_count": 18,
   "metadata": {
    "collapsed": false,
    "pycharm": {
     "name": "#%%\n"
    }
   },
   "outputs": [],
   "source": [
    "# matplotlib\n",
    "%matplotlib inline\n",
    "from matplotlib import pyplot as plt"
   ]
  },
  {
   "cell_type": "markdown",
   "metadata": {
    "collapsed": false
   },
   "source": [
    "You have to impletement several standard deep neural network modules in the `./fdunn` folder:\n",
    "1.   linear/conv/pooling\n",
    "2.   activation\n",
    "3.   loss\n",
    "4.   optim\n",
    "5.   trainer\n",
    "\n",
    "We have written most of the code for you already, and you only need to fill in the most essential parts. We have also prepared several test cases for you to check if your code works correctly.\n",
    "\n",
    "Furthermore, you can also test the accuracy of your code by comparing its output with the output of sk-learn."
   ]
  },
  {
   "cell_type": "code",
   "execution_count": 19,
   "metadata": {
    "collapsed": false,
    "pycharm": {
     "name": "#%%\n"
    }
   },
   "outputs": [],
   "source": [
    "from fdunn.modules import base\n",
    "from fdunn.modules import conv\n",
    "from fdunn.modules import linear\n",
    "from fdunn.modules import pooling\n",
    "from fdunn.modules import activation\n",
    "from fdunn.modules import loss\n",
    "from fdunn.optim import base as op_base\n",
    "from fdunn.optim import sgd\n",
    "from fdunn import trainer\n",
    "from fdunn.metrics import f1_score,accuracy"
   ]
  },
  {
   "cell_type": "markdown",
   "metadata": {
    "collapsed": false
   },
   "source": [
    "## 2. Deep Learning with Image/Text Data (20 points)\n",
    "\n",
    "Use your fdunn lib to perform image classification on MNIST or CIFAR10 dataset.\n",
    "\n",
    "- MNIST: http://yann.lecun.com/exdb/mnist/\n",
    "- CIFAR10: https://www.cs.toronto.edu/~kriz/cifar.html"
   ]
  },
  {
   "cell_type": "markdown",
   "metadata": {},
   "source": [
    "### The flatten object is for conforming the data to the linear layer, that is, flattening all data belonging to the same figure into a 1D array"
   ]
  },
  {
   "cell_type": "code",
   "execution_count": 20,
   "metadata": {},
   "outputs": [],
   "source": [
    "class flatten(base.Module):\n",
    "    def __init__(self):\n",
    "        super().__init__()\n",
    "        self.params = None\n",
    "        self.grads = None\n",
    "\n",
    "    def forward(self, data: np.ndarray):\n",
    "        \"\"\"data:(N,C,H,W),\n",
    "        output:(N,C*H*W)\"\"\"\n",
    "        self._N, self._C, self._H, self._W = data.shape\n",
    "        return data.reshape(data.shape[0], -1)\n",
    "\n",
    "    def backward(self, output_grad: np.ndarray):\n",
    "        output_grad = np.stack(\n",
    "            [\n",
    "                output_grad[:, i * (self._H * self._W) : (i + 1) * (self._H * self._W)]\n",
    "                for i in range(self._C)\n",
    "            ],\n",
    "            axis=1,\n",
    "        )\n",
    "        output_grad = np.stack(\n",
    "            [\n",
    "                output_grad[:, :, i * self._W : (i + 1) * self._W]\n",
    "                for i in range(self._H)\n",
    "            ],\n",
    "            axis=2,\n",
    "        )\n",
    "        return output_grad"
   ]
  },
  {
   "cell_type": "code",
   "execution_count": 21,
   "metadata": {},
   "outputs": [],
   "source": [
    "class CNN(base.Module):\n",
    "    def __init__(self):\n",
    "        super(CNN, self).__init__()\n",
    "        self.train_batches = []\n",
    "        self.conv1 = conv.Conv2d(\n",
    "            in_channels=3, out_channels=6, kernel_size=4, stride=2, padding=2\n",
    "        )\n",
    "        self.act1 = activation.Sigmoid()\n",
    "        self.pool1 = pooling.MaxPool2d(kernel_size=3, stride=2)\n",
    "        self.conv2 = conv.Conv2d(\n",
    "            in_channels=6, out_channels=10, kernel_size=2, stride=1, padding=1\n",
    "        )\n",
    "        self.act2 = activation.Sigmoid()\n",
    "        self.pool2 = pooling.MaxPool2d(kernel_size=2, stride=2)\n",
    "        self.flatten = flatten()\n",
    "\n",
    "        _a = self.conv1.kernel_size[0]\n",
    "        _b = self.conv1.stride[0]\n",
    "        _c = self.conv1.padding[0]\n",
    "        _d = self.pool1.kernel_size[0]\n",
    "        _e = self.pool1.stride[0]\n",
    "        _f = self.conv2.kernel_size[0]\n",
    "        _g = self.conv2.stride[0]\n",
    "        _h = self.conv2.padding[0]\n",
    "        _i = self.pool2.kernel_size[0]\n",
    "        _j = self.pool2.stride[0]\n",
    "        _n1 = np.floor((32 + 2 * _c - _a) / _b + 1)\n",
    "        _n2 = np.floor((_n1 - _d) / _e + 1)\n",
    "        _n3 = np.floor((_n2 + 2 * _h - _f) / _g + 1)\n",
    "        _n4 = np.floor((_n3 - _i) / _j + 1)\n",
    "\n",
    "        self.fn = linear.Linear(\n",
    "            in_features=int(self.conv2.out_channels * _n4**2), out_features=10\n",
    "        )\n",
    "\n",
    "        self.layers = [\n",
    "            self.conv1,\n",
    "            self.act1,\n",
    "            self.pool1,\n",
    "            self.conv2,\n",
    "            self.act2,\n",
    "            self.pool2,\n",
    "            self.flatten,\n",
    "            self.fn,\n",
    "        ]\n",
    "\n",
    "        self.conv1.name = \"conv1\"\n",
    "        self.act1.name = \"act1\"\n",
    "        self.pool1.name = \"pool1\"\n",
    "        self.conv2.name = \"conv2\"\n",
    "        self.act2.name = \"act2\"\n",
    "        self.pool2.name = \"pool2\"\n",
    "        self.flatten.name = \"flatten\"\n",
    "        self.fn.name = \"fn\"\n",
    "\n",
    "    def fold(self, data: np.ndarray, datay: list, batch_size: int, valratio: float):\n",
    "        \"\"\"data: (N,3*32*32),datay: (N)\n",
    "        train_batches: [(batch_size,3,32,32),...],\n",
    "        trainlabels:[(batch_size)],\n",
    "        valid:(N*valratio,3,32,32)\n",
    "        validlabels=(N*valratio)\"\"\"\n",
    "        assert (\n",
    "            data.shape[0] % batch_size == 0\n",
    "        ), \"batch_size must be divisible by datasize\"\n",
    "        data1 = np.stack([data[:, :1024], data[:, 1024:2048], data[:, 2048:]], axis=1)\n",
    "        data2 = np.stack(\n",
    "            [data1[:, :, 32 * i : 32 * (i + 1)] for i in range(32)], axis=2\n",
    "        )\n",
    "        self.train_batches.extend(\n",
    "            [\n",
    "                data2[batch_size * i : batch_size * (i + 1)]\n",
    "                for i in range(int(data.shape[0] * (1 - valratio) / batch_size))\n",
    "            ]\n",
    "        )\n",
    "        self.valid_data = data2[\n",
    "            batch_size * int(data.shape[0] * (1 - valratio) / batch_size) :\n",
    "        ]\n",
    "        datay = np.array(datay)\n",
    "        self.trainlabels = [\n",
    "            datay[batch_size * i : batch_size * (i + 1)]\n",
    "            for i in range(int(data.shape[0] * (1 - valratio) / batch_size))\n",
    "        ]\n",
    "        self.validlabels = datay[\n",
    "            batch_size * int(data.shape[0] * (1 - valratio) / batch_size) :\n",
    "        ]\n",
    "\n",
    "    def forward(self, x):\n",
    "        x = self.conv1(x)\n",
    "        x = self.act1(x)\n",
    "        x = self.pool1(x)\n",
    "        x = self.conv2(x)\n",
    "        x = self.act2(x)\n",
    "        x = self.pool2(x)\n",
    "        x = self.flatten(x)\n",
    "        x = self.fn(x)\n",
    "        return x\n",
    "\n",
    "    def backward(self, grad):\n",
    "        grad = self.fn.backward(grad)\n",
    "        grad = self.flatten.backward(grad)\n",
    "        grad = self.pool2.backward(grad)\n",
    "        grad = self.act2.backward(grad)\n",
    "        grad = self.conv2.backward(grad)\n",
    "        grad = self.pool1.backward(grad)\n",
    "        grad = self.act1.backward(grad)\n",
    "        self.conv1.backward(grad)"
   ]
  },
  {
   "cell_type": "code",
   "execution_count": 22,
   "metadata": {
    "collapsed": false,
    "is_executing": true
   },
   "outputs": [],
   "source": [
    "file = \"C:/Assignment2/Assignment2.2/cifar-10-batches-py/data_batch_{}\"\n",
    "\n",
    "\n",
    "def unpickle(file):\n",
    "    import pickle\n",
    "\n",
    "    with open(file, \"rb\") as fo:\n",
    "        dict = pickle.load(fo, encoding=\"bytes\")\n",
    "    return dict"
   ]
  },
  {
   "cell_type": "code",
   "execution_count": 23,
   "metadata": {},
   "outputs": [],
   "source": [
    "data2 = unpickle(file.format(2))\n",
    "data1 = unpickle(file.format(1))\n",
    "data=np.concatenate((data2[b'data'],data1[b'data']),axis=0)\n",
    "labels=data2[b'labels']+(data1[b'labels'])\n",
    "model = CNN()\n",
    "model.fold(data,labels, batch_size=100, valratio=0.2)\n",
    "optimizer = sgd.SGD(model, lr=0.001)\n",
    "metric = f1_score.F1_score()\n",
    "lossfunction = loss.CrossEntropyLoss(model, reduction=\"sum\")\n",
    "trainor = trainer.Trainer(model, optimizer, metric, lossfunction)\n",
    "trainset = tuple(zip(model.train_batches, model.trainlabels))"
   ]
  },
  {
   "cell_type": "code",
   "execution_count": 25,
   "metadata": {},
   "outputs": [
    {
     "name": "stdout",
     "output_type": "stream",
     "text": [
      "current best score is 0.2487886690203001\n",
      "[Train] epoch: 0/100, loss: 35269.07932768929\n",
      "[Train] epoch: 5/100, loss: 36031.00957723002\n",
      "[Train] epoch: 10/100, loss: 36022.747012376334\n"
     ]
    },
    {
     "ename": "KeyboardInterrupt",
     "evalue": "",
     "output_type": "error",
     "traceback": [
      "\u001b[1;31m---------------------------------------------------------------------------\u001b[0m",
      "\u001b[1;31mKeyboardInterrupt\u001b[0m                         Traceback (most recent call last)",
      "\u001b[1;32m~\\AppData\\Local\\Temp\\ipykernel_10092\\1154334710.py\u001b[0m in \u001b[0;36m<module>\u001b[1;34m\u001b[0m\n\u001b[0;32m      5\u001b[0m     \u001b[0mnum_epochs\u001b[0m\u001b[1;33m=\u001b[0m\u001b[1;36m100\u001b[0m\u001b[1;33m,\u001b[0m\u001b[1;33m\u001b[0m\u001b[1;33m\u001b[0m\u001b[0m\n\u001b[0;32m      6\u001b[0m     \u001b[0mlog_epochs\u001b[0m\u001b[1;33m=\u001b[0m\u001b[1;36m5\u001b[0m\u001b[1;33m,\u001b[0m\u001b[1;33m\u001b[0m\u001b[1;33m\u001b[0m\u001b[0m\n\u001b[1;32m----> 7\u001b[1;33m     \u001b[0msave_dir\u001b[0m\u001b[1;33m=\u001b[0m\u001b[1;34m\"C:/Assignment2/Assignment2.2/savemodel/\"\u001b[0m\u001b[1;33m,\u001b[0m\u001b[1;33m\u001b[0m\u001b[1;33m\u001b[0m\u001b[0m\n\u001b[0m\u001b[0;32m      8\u001b[0m )\n",
      "\u001b[1;32mc:\\Assignment2\\Assignment2.2\\fdunn\\trainer.py\u001b[0m in \u001b[0;36mtrain\u001b[1;34m(self, train_set, dev_set, **kwargs)\u001b[0m\n\u001b[0;32m     27\u001b[0m             \u001b[0mtrn_loss\u001b[0m \u001b[1;33m=\u001b[0m \u001b[1;36m0\u001b[0m\u001b[1;33m\u001b[0m\u001b[1;33m\u001b[0m\u001b[0m\n\u001b[0;32m     28\u001b[0m             \u001b[1;32mfor\u001b[0m \u001b[0mX\u001b[0m\u001b[1;33m,\u001b[0m \u001b[0my\u001b[0m \u001b[1;32min\u001b[0m \u001b[0mtrain_set\u001b[0m\u001b[1;33m:\u001b[0m\u001b[1;33m\u001b[0m\u001b[1;33m\u001b[0m\u001b[0m\n\u001b[1;32m---> 29\u001b[1;33m                 \u001b[0mlogits\u001b[0m \u001b[1;33m=\u001b[0m \u001b[0mself\u001b[0m\u001b[1;33m.\u001b[0m\u001b[0mmodel\u001b[0m\u001b[1;33m(\u001b[0m\u001b[0mX\u001b[0m\u001b[1;33m)\u001b[0m\u001b[1;33m\u001b[0m\u001b[1;33m\u001b[0m\u001b[0m\n\u001b[0m\u001b[0;32m     30\u001b[0m                 \u001b[0mtrn_loss\u001b[0m \u001b[1;33m+=\u001b[0m \u001b[0mfloat\u001b[0m\u001b[1;33m(\u001b[0m\u001b[0mself\u001b[0m\u001b[1;33m.\u001b[0m\u001b[0mloss_fn\u001b[0m\u001b[1;33m(\u001b[0m\u001b[0mlogits\u001b[0m\u001b[1;33m,\u001b[0m \u001b[0my\u001b[0m\u001b[1;33m)\u001b[0m\u001b[1;33m)\u001b[0m  \u001b[1;31m# return a tensor\u001b[0m\u001b[1;33m\u001b[0m\u001b[1;33m\u001b[0m\u001b[0m\n\u001b[0;32m     31\u001b[0m                 \u001b[0mself\u001b[0m\u001b[1;33m.\u001b[0m\u001b[0mloss_fn\u001b[0m\u001b[1;33m.\u001b[0m\u001b[0mbackward\u001b[0m\u001b[1;33m(\u001b[0m\u001b[1;33m)\u001b[0m\u001b[1;33m\u001b[0m\u001b[1;33m\u001b[0m\u001b[0m\n",
      "\u001b[1;32mc:\\Assignment2\\Assignment2.2\\fdunn\\modules\\base.py\u001b[0m in \u001b[0;36m__call__\u001b[1;34m(self, input)\u001b[0m\n\u001b[0;32m      7\u001b[0m \u001b[1;33m\u001b[0m\u001b[0m\n\u001b[0;32m      8\u001b[0m     \u001b[1;32mdef\u001b[0m \u001b[0m__call__\u001b[0m\u001b[1;33m(\u001b[0m\u001b[0mself\u001b[0m\u001b[1;33m,\u001b[0m \u001b[0minput\u001b[0m\u001b[1;33m)\u001b[0m\u001b[1;33m:\u001b[0m\u001b[1;33m\u001b[0m\u001b[1;33m\u001b[0m\u001b[0m\n\u001b[1;32m----> 9\u001b[1;33m         \u001b[1;32mreturn\u001b[0m \u001b[0mself\u001b[0m\u001b[1;33m.\u001b[0m\u001b[0mforward\u001b[0m\u001b[1;33m(\u001b[0m\u001b[0minput\u001b[0m\u001b[1;33m)\u001b[0m\u001b[1;33m\u001b[0m\u001b[1;33m\u001b[0m\u001b[0m\n\u001b[0m\u001b[0;32m     10\u001b[0m \u001b[1;33m\u001b[0m\u001b[0m\n\u001b[0;32m     11\u001b[0m     \u001b[1;32mdef\u001b[0m \u001b[0mforward\u001b[0m\u001b[1;33m(\u001b[0m\u001b[0mself\u001b[0m\u001b[1;33m,\u001b[0m \u001b[0minput\u001b[0m\u001b[1;33m)\u001b[0m\u001b[1;33m:\u001b[0m\u001b[1;33m\u001b[0m\u001b[1;33m\u001b[0m\u001b[0m\n",
      "\u001b[1;32m~\\AppData\\Local\\Temp\\ipykernel_10092\\1516171550.py\u001b[0m in \u001b[0;36mforward\u001b[1;34m(self, x)\u001b[0m\n\u001b[0;32m     89\u001b[0m         \u001b[0mx\u001b[0m \u001b[1;33m=\u001b[0m \u001b[0mself\u001b[0m\u001b[1;33m.\u001b[0m\u001b[0mact1\u001b[0m\u001b[1;33m(\u001b[0m\u001b[0mx\u001b[0m\u001b[1;33m)\u001b[0m\u001b[1;33m\u001b[0m\u001b[1;33m\u001b[0m\u001b[0m\n\u001b[0;32m     90\u001b[0m         \u001b[0mx\u001b[0m \u001b[1;33m=\u001b[0m \u001b[0mself\u001b[0m\u001b[1;33m.\u001b[0m\u001b[0mpool1\u001b[0m\u001b[1;33m(\u001b[0m\u001b[0mx\u001b[0m\u001b[1;33m)\u001b[0m\u001b[1;33m\u001b[0m\u001b[1;33m\u001b[0m\u001b[0m\n\u001b[1;32m---> 91\u001b[1;33m         \u001b[0mx\u001b[0m \u001b[1;33m=\u001b[0m \u001b[0mself\u001b[0m\u001b[1;33m.\u001b[0m\u001b[0mconv2\u001b[0m\u001b[1;33m(\u001b[0m\u001b[0mx\u001b[0m\u001b[1;33m)\u001b[0m\u001b[1;33m\u001b[0m\u001b[1;33m\u001b[0m\u001b[0m\n\u001b[0m\u001b[0;32m     92\u001b[0m         \u001b[0mx\u001b[0m \u001b[1;33m=\u001b[0m \u001b[0mself\u001b[0m\u001b[1;33m.\u001b[0m\u001b[0mact2\u001b[0m\u001b[1;33m(\u001b[0m\u001b[0mx\u001b[0m\u001b[1;33m)\u001b[0m\u001b[1;33m\u001b[0m\u001b[1;33m\u001b[0m\u001b[0m\n\u001b[0;32m     93\u001b[0m         \u001b[0mx\u001b[0m \u001b[1;33m=\u001b[0m \u001b[0mself\u001b[0m\u001b[1;33m.\u001b[0m\u001b[0mpool2\u001b[0m\u001b[1;33m(\u001b[0m\u001b[0mx\u001b[0m\u001b[1;33m)\u001b[0m\u001b[1;33m\u001b[0m\u001b[1;33m\u001b[0m\u001b[0m\n",
      "\u001b[1;32mc:\\Assignment2\\Assignment2.2\\fdunn\\modules\\base.py\u001b[0m in \u001b[0;36m__call__\u001b[1;34m(self, input)\u001b[0m\n\u001b[0;32m      7\u001b[0m \u001b[1;33m\u001b[0m\u001b[0m\n\u001b[0;32m      8\u001b[0m     \u001b[1;32mdef\u001b[0m \u001b[0m__call__\u001b[0m\u001b[1;33m(\u001b[0m\u001b[0mself\u001b[0m\u001b[1;33m,\u001b[0m \u001b[0minput\u001b[0m\u001b[1;33m)\u001b[0m\u001b[1;33m:\u001b[0m\u001b[1;33m\u001b[0m\u001b[1;33m\u001b[0m\u001b[0m\n\u001b[1;32m----> 9\u001b[1;33m         \u001b[1;32mreturn\u001b[0m \u001b[0mself\u001b[0m\u001b[1;33m.\u001b[0m\u001b[0mforward\u001b[0m\u001b[1;33m(\u001b[0m\u001b[0minput\u001b[0m\u001b[1;33m)\u001b[0m\u001b[1;33m\u001b[0m\u001b[1;33m\u001b[0m\u001b[0m\n\u001b[0m\u001b[0;32m     10\u001b[0m \u001b[1;33m\u001b[0m\u001b[0m\n\u001b[0;32m     11\u001b[0m     \u001b[1;32mdef\u001b[0m \u001b[0mforward\u001b[0m\u001b[1;33m(\u001b[0m\u001b[0mself\u001b[0m\u001b[1;33m,\u001b[0m \u001b[0minput\u001b[0m\u001b[1;33m)\u001b[0m\u001b[1;33m:\u001b[0m\u001b[1;33m\u001b[0m\u001b[1;33m\u001b[0m\u001b[0m\n",
      "\u001b[1;32mc:\\Assignment2\\Assignment2.2\\fdunn\\modules\\conv.py\u001b[0m in \u001b[0;36mforward\u001b[1;34m(self, input)\u001b[0m\n\u001b[0;32m    160\u001b[0m                     \u001b[0maxis\u001b[0m\u001b[1;33m=\u001b[0m\u001b[1;36m0\u001b[0m\u001b[1;33m,\u001b[0m\u001b[1;33m\u001b[0m\u001b[1;33m\u001b[0m\u001b[0m\n\u001b[0;32m    161\u001b[0m                 )\n\u001b[1;32m--> 162\u001b[1;33m                 \u001b[1;32mfor\u001b[0m \u001b[0mi\u001b[0m \u001b[1;32min\u001b[0m \u001b[0mrange\u001b[0m\u001b[1;33m(\u001b[0m\u001b[0mself\u001b[0m\u001b[1;33m.\u001b[0m\u001b[0minput_padded\u001b[0m\u001b[1;33m.\u001b[0m\u001b[0mshape\u001b[0m\u001b[1;33m[\u001b[0m\u001b[1;36m0\u001b[0m\u001b[1;33m]\u001b[0m\u001b[1;33m)\u001b[0m\u001b[1;33m\u001b[0m\u001b[1;33m\u001b[0m\u001b[0m\n\u001b[0m\u001b[0;32m    163\u001b[0m             ],\n\u001b[0;32m    164\u001b[0m             \u001b[0maxis\u001b[0m\u001b[1;33m=\u001b[0m\u001b[1;36m0\u001b[0m\u001b[1;33m,\u001b[0m\u001b[1;33m\u001b[0m\u001b[1;33m\u001b[0m\u001b[0m\n",
      "\u001b[1;32mc:\\Assignment2\\Assignment2.2\\fdunn\\modules\\conv.py\u001b[0m in \u001b[0;36m<listcomp>\u001b[1;34m(.0)\u001b[0m\n\u001b[0;32m    160\u001b[0m                     \u001b[0maxis\u001b[0m\u001b[1;33m=\u001b[0m\u001b[1;36m0\u001b[0m\u001b[1;33m,\u001b[0m\u001b[1;33m\u001b[0m\u001b[1;33m\u001b[0m\u001b[0m\n\u001b[0;32m    161\u001b[0m                 )\n\u001b[1;32m--> 162\u001b[1;33m                 \u001b[1;32mfor\u001b[0m \u001b[0mi\u001b[0m \u001b[1;32min\u001b[0m \u001b[0mrange\u001b[0m\u001b[1;33m(\u001b[0m\u001b[0mself\u001b[0m\u001b[1;33m.\u001b[0m\u001b[0minput_padded\u001b[0m\u001b[1;33m.\u001b[0m\u001b[0mshape\u001b[0m\u001b[1;33m[\u001b[0m\u001b[1;36m0\u001b[0m\u001b[1;33m]\u001b[0m\u001b[1;33m)\u001b[0m\u001b[1;33m\u001b[0m\u001b[1;33m\u001b[0m\u001b[0m\n\u001b[0m\u001b[0;32m    163\u001b[0m             ],\n\u001b[0;32m    164\u001b[0m             \u001b[0maxis\u001b[0m\u001b[1;33m=\u001b[0m\u001b[1;36m0\u001b[0m\u001b[1;33m,\u001b[0m\u001b[1;33m\u001b[0m\u001b[1;33m\u001b[0m\u001b[0m\n",
      "\u001b[1;32m<__array_function__ internals>\u001b[0m in \u001b[0;36mstack\u001b[1;34m(*args, **kwargs)\u001b[0m\n",
      "\u001b[1;32mc:\\miniconda_env\\envs\\gnn1\\lib\\site-packages\\numpy\\core\\shape_base.py\u001b[0m in \u001b[0;36mstack\u001b[1;34m(arrays, axis, out)\u001b[0m\n\u001b[0;32m    431\u001b[0m     \u001b[0msl\u001b[0m \u001b[1;33m=\u001b[0m \u001b[1;33m(\u001b[0m\u001b[0mslice\u001b[0m\u001b[1;33m(\u001b[0m\u001b[1;32mNone\u001b[0m\u001b[1;33m)\u001b[0m\u001b[1;33m,\u001b[0m\u001b[1;33m)\u001b[0m \u001b[1;33m*\u001b[0m \u001b[0maxis\u001b[0m \u001b[1;33m+\u001b[0m \u001b[1;33m(\u001b[0m\u001b[0m_nx\u001b[0m\u001b[1;33m.\u001b[0m\u001b[0mnewaxis\u001b[0m\u001b[1;33m,\u001b[0m\u001b[1;33m)\u001b[0m\u001b[1;33m\u001b[0m\u001b[1;33m\u001b[0m\u001b[0m\n\u001b[0;32m    432\u001b[0m     \u001b[0mexpanded_arrays\u001b[0m \u001b[1;33m=\u001b[0m \u001b[1;33m[\u001b[0m\u001b[0marr\u001b[0m\u001b[1;33m[\u001b[0m\u001b[0msl\u001b[0m\u001b[1;33m]\u001b[0m \u001b[1;32mfor\u001b[0m \u001b[0marr\u001b[0m \u001b[1;32min\u001b[0m \u001b[0marrays\u001b[0m\u001b[1;33m]\u001b[0m\u001b[1;33m\u001b[0m\u001b[1;33m\u001b[0m\u001b[0m\n\u001b[1;32m--> 433\u001b[1;33m     \u001b[1;32mreturn\u001b[0m \u001b[0m_nx\u001b[0m\u001b[1;33m.\u001b[0m\u001b[0mconcatenate\u001b[0m\u001b[1;33m(\u001b[0m\u001b[0mexpanded_arrays\u001b[0m\u001b[1;33m,\u001b[0m \u001b[0maxis\u001b[0m\u001b[1;33m=\u001b[0m\u001b[0maxis\u001b[0m\u001b[1;33m,\u001b[0m \u001b[0mout\u001b[0m\u001b[1;33m=\u001b[0m\u001b[0mout\u001b[0m\u001b[1;33m)\u001b[0m\u001b[1;33m\u001b[0m\u001b[1;33m\u001b[0m\u001b[0m\n\u001b[0m\u001b[0;32m    434\u001b[0m \u001b[1;33m\u001b[0m\u001b[0m\n\u001b[0;32m    435\u001b[0m \u001b[1;33m\u001b[0m\u001b[0m\n",
      "\u001b[1;32m<__array_function__ internals>\u001b[0m in \u001b[0;36mconcatenate\u001b[1;34m(*args, **kwargs)\u001b[0m\n",
      "\u001b[1;31mKeyboardInterrupt\u001b[0m: "
     ]
    }
   ],
   "source": [
    "trainor.load_model(\"C:/Assignment2/Assignment2.2/savemodel/\")\n",
    "trainor.train(\n",
    "    trainset,\n",
    "    (model.valid_data, model.validlabels),\n",
    "    num_epochs=100,\n",
    "    log_epochs=5,\n",
    "    save_dir=\"C:/Assignment2/Assignment2.2/savemodel/\",\n",
    ")"
   ]
  },
  {
   "cell_type": "markdown",
   "metadata": {},
   "source": [
    "### The loss is the total loss on all figures so the scale is a bit large. The matrics is uniform weighed average f1score. "
   ]
  },
  {
   "cell_type": "markdown",
   "metadata": {},
   "source": [
    "### Then test it with f1score on test set"
   ]
  },
  {
   "cell_type": "code",
   "execution_count": 20,
   "metadata": {},
   "outputs": [
    {
     "name": "stdout",
     "output_type": "stream",
     "text": [
      "current best score is 0.2487886690203001\n",
      "the f1score on test set is 0.25984329934718414\n"
     ]
    }
   ],
   "source": [
    "testfile = \"C:/Assignment2/Assignment2.2/cifar-10-batches-py/test_batch\"\n",
    "testdata=unpickle(file)\n",
    "trainor.load_model(\"C:/Assignment2/Assignment2.2/savemodel/\")\n",
    "model.fold(testdata[b'data'],testdata[b'labels'],batch_size=10000,valratio=1)\n",
    "score,_=trainor.evaluate((model.valid_data, model.validlabels))\n",
    "print(f'the f1score on test set is {score}')"
   ]
  },
  {
   "cell_type": "markdown",
   "metadata": {},
   "source": [
    "### additionally check out its accuracy"
   ]
  },
  {
   "cell_type": "code",
   "execution_count": null,
   "metadata": {},
   "outputs": [],
   "source": [
    "testfile = \"C:/Assignment2/Assignment2.2/cifar-10-batches-py/test_batch\"\n",
    "testdata=unpickle(file)\n",
    "model = CNN()\n",
    "optimizer = sgd.SGD(model, lr=0.001)\n",
    "metric = accuracy.Accuracy()\n",
    "lossfunction = loss.CrossEntropyLoss(model, reduction=\"sum\")\n",
    "trainor = trainer.Trainer(model, optimizer, metric, lossfunction)\n",
    "trainor.load_model(\"C:/Assignment2/Assignment2.2/savemodel/\")\n",
    "model.fold(testdata[b\"data\"], testdata[b\"labels\"], batch_size=10000, valratio=1)\n",
    "score,_=trainor.evaluate((model.valid_data, model.validlabels))\n",
    "print(f'the accuracy on test set is {score}')"
   ]
  },
  {
   "cell_type": "markdown",
   "metadata": {},
   "source": [
    "### the performance is slightly higher than random classification. Given the high total loss on train set it's apparent that the model itself is not strong enough. "
   ]
  },
  {
   "cell_type": "markdown",
   "metadata": {
    "collapsed": false
   },
   "source": [
    "## 3. Advanced Topics (10 points)\n",
    "\n",
    "You can try to implement some advanced topics in deep learning with our fdunn in this section.\n",
    "\n",
    "We will divide the topics into two categories: modules and optimization, with 5 points for each category.\n",
    "\n",
    "### 3.1 Modules\n",
    "\n",
    "Pick one of the following (trending or classic) topics and implement it with fdunn. Try to implement it and design a toy test case to show that your implementation is correct (say we can compare the forward and backward results with the results of corresponding Pytorch modules with the same weight).\n",
    "\n",
    "- Batch/Layer/Group Normalization (just one of them is fine)\n",
    "- A ReLU/GeLU/SiLU activation function (just one of them is fine)\n",
    "- A Gated Linear Unit (GLU)\n",
    "- An RNN cell\n",
    "- Or any other modules you are interested in\n",
    "\n",
    "\n",
    "### 3.2 Optimization\n",
    "\n",
    "Pick one of the following optimization methods and implement it with fdunn.\n",
    "\n",
    "- SGD with L2 regularization. (Try to repeat your experiment in Assignment 1.1 to see the same 'underregularization' to 'overregularization' phenomenon)\n",
    "- Adam (Does it converge faster than SGD in the last section?)\n",
    "- Or any other optimization methods you are interested in (I am far from an expert in optimization, so maybe you can teach me something new here. Say a second order method?)\n",
    "\n",
    "\n",
    "If you are not sure about what to do, We suggest you to implement the ReLU activation function and SGD with L2 regularization. They are foundamental and (relatively) easy to implement.\n",
    "\n",
    "Different methods do not vary in scores. So do not chase fancy methods unless you are quite interested in them.\n",
    "\n",
    "There are many ways to prove your implementation is correct, as long as they are convincing."
   ]
  },
  {
   "cell_type": "markdown",
   "metadata": {},
   "source": [
    "### 3.1 ReLU activation"
   ]
  },
  {
   "cell_type": "code",
   "execution_count": 21,
   "metadata": {
    "collapsed": false
   },
   "outputs": [],
   "source": [
    "class ReLU(base.Module):\n",
    "    def __init__(self):\n",
    "        super(ReLU, self).__init__()\n",
    "        self.input = None\n",
    "        self.output = None\n",
    "        self.params = None\n",
    "        self.grads = None\n",
    "\n",
    "    def forward(self, input: np.ndarray):\n",
    "        \"\"\"input:(*,C,H,W),\n",
    "        return:(*,C,H,W)\"\"\"\n",
    "        self.input = input\n",
    "        self.output = self.input\n",
    "        self.output[self.output < 0] = 0\n",
    "        return self.output\n",
    "\n",
    "    def backward(self, output_grad: np.ndarray):\n",
    "        \"\"\"output_grad:(*,C,H,W),\n",
    "        return input_grad:(*,C,H,W)\"\"\"\n",
    "        output_grad[self.input <= 0] = 0\n",
    "        return output_grad"
   ]
  },
  {
   "cell_type": "markdown",
   "metadata": {},
   "source": [
    "### compare relu to that of torch"
   ]
  },
  {
   "cell_type": "code",
   "execution_count": 22,
   "metadata": {},
   "outputs": [
    {
     "name": "stdout",
     "output_type": "stream",
     "text": [
      "same output as torch\n",
      "same grad as torch\n"
     ]
    }
   ],
   "source": [
    "import torch\n",
    "import torch.nn.functional as F\n",
    "\n",
    "input_data = torch.randn(3, 4, 5, 6)\n",
    "input_data.requires_grad_()\n",
    "torch_output = F.relu(input_data)\n",
    "output_grad = torch.randn(3, 4, 5, 6)\n",
    "torch_output.backward(output_grad)\n",
    "torch_grad = input_data.grad.detach().numpy()\n",
    "torch_output = torch_output.detach().numpy()\n",
    "input_data = input_data.detach().numpy()\n",
    "output_grad = output_grad.detach().numpy()\n",
    "relu = ReLU()\n",
    "np_output = relu.forward(input_data)\n",
    "np_grad = relu.backward(output_grad)\n",
    "if (np_output == torch_output).all():\n",
    "    print(\"same output as torch\")\n",
    "if (np_grad == torch_grad).all():\n",
    "    print(\"same grad as torch\")"
   ]
  },
  {
   "cell_type": "markdown",
   "metadata": {},
   "source": [
    "### 3.2 SGD with L2 regularization"
   ]
  },
  {
   "cell_type": "code",
   "execution_count": 23,
   "metadata": {},
   "outputs": [],
   "source": [
    "class L2SGD(op_base.Optimizer):\n",
    "    def __init__(self, model, lr=0.01, lambda_reg=0):\n",
    "        self.model = model\n",
    "        self.lr = lr\n",
    "        self.lambda_reg = lambda_reg\n",
    "\n",
    "    def step(self):\n",
    "        for layer in self.model.layers:\n",
    "            if isinstance(layer.params, dict):\n",
    "                for key in layer.params.keys():\n",
    "                    layer.params[key] = layer.params[key] - self.lr * (\n",
    "                        layer.grads[key] + self.lambda_reg * layer.params[key]\n",
    "                    )"
   ]
  },
  {
   "cell_type": "markdown",
   "metadata": {},
   "source": [
    "### try to repeat the experiment in Assignment1.1"
   ]
  },
  {
   "cell_type": "markdown",
   "metadata": {},
   "source": [
    "### the model"
   ]
  },
  {
   "cell_type": "code",
   "execution_count": 24,
   "metadata": {},
   "outputs": [],
   "source": [
    "class linearmodel(base.Module):\n",
    "    def __init__(self,inchannel,outchannel):\n",
    "        super(linearmodel, self).__init__()\n",
    "        self.linear = linear.Linear(inchannel,outchannel,False)\n",
    "        self.layers = [self.linear]\n",
    "        self.linear.name = \"linear\"\n",
    "\n",
    "    def forward(self, x):\n",
    "        x = self.linear(x)\n",
    "        return x\n",
    "\n",
    "    def backward(self, output_grad):\n",
    "        self.linear.backward(output_grad)"
   ]
  },
  {
   "cell_type": "markdown",
   "metadata": {},
   "source": [
    "### MSE as loss function"
   ]
  },
  {
   "cell_type": "code",
   "execution_count": 25,
   "metadata": {},
   "outputs": [],
   "source": [
    "class MSE(base.Loss):\n",
    "    def __init__(self, model):\n",
    "        self.input = None\n",
    "        self.target = None\n",
    "        self.model = model\n",
    "\n",
    "    def forward(self, y_pred: np.ndarray, y_true: np.ndarray):\n",
    "        self.y_pred = y_pred\n",
    "        self.y_true = y_true\n",
    "        loss = ((y_pred - y_true) ** 2).mean()\n",
    "        return loss\n",
    "\n",
    "    def backward(self):\n",
    "        pred_grad = (self.y_pred - self.y_true) * 2 / self.y_pred.size\n",
    "        self.model.backward(pred_grad)"
   ]
  },
  {
   "cell_type": "markdown",
   "metadata": {},
   "source": [
    "### fit function is for training the model"
   ]
  },
  {
   "cell_type": "code",
   "execution_count": 26,
   "metadata": {},
   "outputs": [],
   "source": [
    "def fit(\n",
    "    model: linearmodel,\n",
    "    optimize: L2SGD,\n",
    "    loss_fn:MSE,\n",
    "    X_train,\n",
    "    y_train,\n",
    "    epochs=100,\n",
    "    showprogress=False,\n",
    "):\n",
    "    loss_ = []\n",
    "    for epoch in range(epochs):\n",
    "        y_pred = model(X_train)\n",
    "        loss_.append(float(loss_fn(input=y_pred,target=y_train)))\n",
    "        loss_fn.backward()\n",
    "        optimize.step()\n",
    "    print(f'loss descend from {loss_[0]} to {loss_[-1]}') \n",
    "    \n",
    "    if showprogress:\n",
    "        plt.plot(loss_)\n",
    "        plt.show()"
   ]
  },
  {
   "cell_type": "markdown",
   "metadata": {},
   "source": [
    "### the following is exactly like what's been done in Assignment1.1"
   ]
  },
  {
   "cell_type": "code",
   "execution_count": 54,
   "metadata": {},
   "outputs": [],
   "source": [
    "# sin\n",
    "import math\n",
    "from sklearn.preprocessing import PolynomialFeatures as pf\n",
    "\n",
    "def sin(x):\n",
    "    y = np.sin(2 * math.pi * x)\n",
    "    return y\n",
    "\n",
    "\n",
    "def create_toy_data(\n",
    "    func, interval, sample_num, noise=0.0, add_outlier=False, outlier_ratio=0.001\n",
    "):\n",
    "    \"\"\"\n",
    "    generate data with the given function\n",
    "    input:\n",
    "       - func: the input function\n",
    "       - interval: the range of values of x, a tuple (start, end)\n",
    "       - sample_num: number of samples\n",
    "       - noise: the standard deviation of Gaussian noise\n",
    "       - add_outlier: whether to generate outliers\n",
    "       - outlier_ratio: proportion of outliers\n",
    "\n",
    "    output:\n",
    "       - X: samples, shape = [n_samples,1]\n",
    "       - y: labels, shape = [n_samples,1]\n",
    "    \"\"\"\n",
    "\n",
    "    X = np.random.rand(sample_num, 1) * (interval[1] - interval[0]) + interval[0]\n",
    "    y = func(X)\n",
    "\n",
    "    # add Gaussian noise\n",
    "    epsilon = np.random.normal(0, noise, (sample_num, 1))\n",
    "    y = y + epsilon\n",
    "\n",
    "    # add outlier\n",
    "    if add_outlier:\n",
    "        outlier_num = int(sample_num * outlier_ratio)\n",
    "        if outlier_num != 0:\n",
    "            outlier_idx = np.random.randint(sample_num, size=[outlier_num, 1])\n",
    "            y[outlier_idx] = y[outlier_idx] * 5\n",
    "\n",
    "    return X, y\n",
    "\n",
    "\n",
    "func = sin\n",
    "interval = (0, 1)\n",
    "train_num = 15\n",
    "test_num = 10\n",
    "noise = 0.2\n",
    "X_train, y_train = create_toy_data(\n",
    "    func=func, interval=interval, sample_num=train_num, noise=noise\n",
    ")\n",
    "X_test, y_test = create_toy_data(\n",
    "    func=func, interval=interval, sample_num=test_num, noise=noise\n",
    ")"
   ]
  },
  {
   "cell_type": "code",
   "execution_count": 56,
   "metadata": {},
   "outputs": [
    {
     "name": "stdout",
     "output_type": "stream",
     "text": [
      "loss descend from 0.5177091128552223 to 0.265162756220404\n",
      "loss descend from 0.6082352925610521 to 0.2901658669296496\n",
      "loss descend from 0.3674146293210881 to 0.3010038609147349\n",
      "loss descend from 0.5912297622761741 to 0.325352638381563\n",
      "loss descend from 0.4318793326069768 to 0.341152280595461\n",
      "loss descend from 0.39613244004498116 to 0.35461583997845686\n",
      "loss descend from 0.38008992891306215 to 0.3657153009708922\n",
      "loss descend from 0.5626741432370647 to 0.3749834878366729\n",
      "loss descend from 0.328003501532229 to 0.3827970931920398\n",
      "loss descend from 0.6773891688178112 to 0.38951009080776333\n",
      "loss descend from 0.48210448666510514 to 0.395313552838333\n",
      "loss descend from 0.5015246906798914 to 0.4003904211144439\n",
      "loss descend from 0.42497450023313943 to 0.40486796519454343\n",
      "loss descend from 0.5391141930326003 to 0.4088462024187403\n",
      "loss descend from 0.7347079143574299 to 0.41240422530693177\n",
      "loss descend from 0.45984680351832413 to 0.41560512581959236\n",
      "loss descend from 0.5439520909178067 to 0.4185000453509323\n",
      "loss descend from 0.4888101323674769 to 0.4211307990343905\n",
      "loss descend from 0.42585210371356663 to 0.42353191842104443\n",
      "loss descend from 0.46967514396067095 to 0.42573217215805387\n",
      "loss descend from 0.6407501201118014 to 0.4277557206607567\n",
      "loss descend from 0.5012495829933665 to 0.4296230024908939\n",
      "loss descend from 0.5815337499600275 to 0.43135142413791494\n",
      "loss descend from 0.48766837256555584 to 0.43295590182243726\n",
      "loss descend from 0.46621515629774424 to 0.4344492912141727\n",
      "loss descend from 0.5176141299700489 to 0.43584273111812083\n",
      "loss descend from 0.49771266297227534 to 0.43714592063064217\n",
      "loss descend from 0.6623441760867574 to 0.4383673443053421\n",
      "loss descend from 0.611554669962035 to 0.4395144563622285\n",
      "loss descend from 0.5268190223266599 to 0.44059383237395083\n",
      "loss descend from 0.43652720097540715 to 0.44161129493461476\n",
      "loss descend from 0.5357120286563132 to 0.4425720183710551\n",
      "loss descend from 0.44201115048093453 to 0.4434806164623559\n",
      "loss descend from 0.6366745754146435 to 0.44434121629851087\n",
      "loss descend from 0.7663894051802299 to 0.445157520766864\n",
      "loss descend from 0.3953142626751807 to 0.44593286165723356\n",
      "loss descend from 0.38494044813595807 to 0.44667024498812313\n",
      "loss descend from 0.5707043677895799 to 0.4473723898511623\n",
      "loss descend from 0.5619092539987987 to 0.44804176182956\n",
      "loss descend from 0.5098093802316866 to 0.4486806018543405\n",
      "loss descend from 0.47767829955200475 to 0.44929095120853507\n",
      "loss descend from 0.4474245328516781 to 0.4498746732659499\n",
      "loss descend from 0.4661430526172869 to 0.45043347245124293\n",
      "loss descend from 0.5861395547920837 to 0.4509689108268811\n",
      "loss descend from 0.46068681063244254 to 0.4514824226463053\n",
      "loss descend from 0.6439591194262488 to 0.451975327158299\n",
      "loss descend from 0.5887622101387161 to 0.45244883990283685\n",
      "loss descend from 0.42947689448680093 to 0.4529040827016862\n",
      "loss descend from 0.41535714065329427 to 0.4533420925163413\n",
      "loss descend from 0.4618930118948094 to 0.45376382932027837\n",
      "loss descend from 0.5138666928128549 to 0.4541701831111222\n",
      "loss descend from 0.4853683924743576 to 0.4545619801703636\n",
      "loss descend from 0.7321963883139803 to 0.4549399886631404\n",
      "loss descend from 0.5611671623251516 to 0.45530492365782976\n",
      "loss descend from 0.46430997396297147 to 0.4556574516343697\n",
      "loss descend from 0.572958406494556 to 0.45599819454103696\n",
      "loss descend from 0.5386409819438782 to 0.4563277334515589\n",
      "loss descend from 0.5237992239480737 to 0.45664661186774785\n",
      "loss descend from 0.45715732530589126 to 0.4569553387070908\n",
      "loss descend from 0.4911556756403014 to 0.4572543910098001\n",
      "loss descend from 0.49844258848457385 to 0.4575442163955788\n",
      "loss descend from 0.4248323525234395 to 0.45782523529667923\n",
      "loss descend from 0.5440181232476864 to 0.4580978429906619\n",
      "loss descend from 0.5011492983225049 to 0.45836241145350043\n",
      "loss descend from 0.4624220941373459 to 0.4586192910512831\n",
      "loss descend from 0.3321394724645782 to 0.45886881208667596\n",
      "loss descend from 0.42497039667531916 to 0.45911128621448394\n",
      "loss descend from 0.47304389318388135 to 0.45934700773905707\n",
      "loss descend from 0.4864882195783457 to 0.4595762548048856\n",
      "loss descend from 0.4217087090934271 to 0.45979929049050344\n",
      "loss descend from 0.5194644801426666 to 0.4600163638147361\n",
      "loss descend from 0.7182909484093277 to 0.4602277106633798\n",
      "loss descend from 0.4933955933159276 to 0.4604335546435531\n",
      "loss descend from 0.42177235190669493 to 0.460634107872224\n",
      "loss descend from 0.3613068615464839 to 0.4608295717047509\n",
      "loss descend from 0.4023429159371043 to 0.46102013740869585\n",
      "loss descend from 0.6843984651090868 to 0.4612059867876444\n",
      "loss descend from 0.5568516940377393 to 0.461387292759307\n",
      "loss descend from 0.3731334477913062 to 0.46156421989176366\n",
      "loss descend from 0.44139354191068253 to 0.46173692490134344\n",
      "loss descend from 0.38510722713301876 to 0.4619055571153045\n",
      "loss descend from 0.7048998491806703 to 0.4620702589021816\n",
      "loss descend from 0.460322778823561 to 0.4622311660724093\n",
      "loss descend from 0.4268816313132787 to 0.46238840825158545\n",
      "loss descend from 0.4037290414688732 to 0.462542109228532\n",
      "loss descend from 0.40171918081940683 to 0.46269238728011514\n",
      "loss descend from 0.5533118021939182 to 0.4628393554746164\n",
      "loss descend from 0.6931572866209558 to 0.46298312195528646\n",
      "loss descend from 0.48078861664536937 to 0.46312379020557815\n",
      "loss descend from 0.43261379716678144 to 0.46326145929742235\n",
      "loss descend from 0.6569672870149155 to 0.46339622412380155\n",
      "loss descend from 0.435511741749455 to 0.4635281756167622\n",
      "loss descend from 0.5548377570685916 to 0.46365740095192387\n",
      "loss descend from 0.5360627330293978 to 0.4637839837404479\n",
      "loss descend from 0.40927695220720256 to 0.46390800420935285\n",
      "loss descend from 0.5317470268436706 to 0.46402953937099656\n",
      "loss descend from 0.41070805758797524 to 0.46414866318247355\n",
      "loss descend from 0.4487373993182962 to 0.4642654466956228\n",
      "loss descend from 0.7060525706584856 to 0.46437995819828415\n",
      "loss descend from 0.41176404827683655 to 0.46449226334739385\n",
      "loss descend from 0.40679532348725217 to 0.464602425294462\n",
      "loss descend from 0.4854545194122427 to 0.4647105048039389\n",
      "loss descend from 0.48917692994313017 to 0.4648165603649333\n",
      "loss descend from 0.5079232009644252 to 0.4649206482967153\n",
      "loss descend from 0.44880926138699156 to 0.46502282284840374\n",
      "loss descend from 0.5327424060368137 to 0.4651231362932079\n",
      "loss descend from 0.6791375600767284 to 0.4652216390175678\n",
      "loss descend from 0.44329808767787976 to 0.465318379605513\n",
      "loss descend from 0.6452715733735953 to 0.46541340491853483\n",
      "loss descend from 0.4982315467974772 to 0.4655067601712494\n",
      "loss descend from 0.37260612568199647 to 0.4655984890031085\n",
      "loss descend from 0.5125008553014664 to 0.46568863354639345\n",
      "loss descend from 0.4525861666879292 to 0.4657772344907204\n",
      "loss descend from 0.5183597123409098 to 0.4658643311442591\n",
      "loss descend from 0.42356325846770043 to 0.46594996149186135\n",
      "loss descend from 0.5096977628324265 to 0.4660341622502792\n",
      "loss descend from 0.5764120333971213 to 0.46611696892064164\n",
      "loss descend from 0.4897611085925383 to 0.46619841583834565\n",
      "loss descend from 0.40756895229487333 to 0.46627853622051224\n",
      "loss descend from 0.5010631440864747 to 0.4663573622111414\n",
      "loss descend from 0.46498174026602274 to 0.46643492492409755\n",
      "loss descend from 0.3465914486333181 to 0.46651125448404557\n",
      "loss descend from 0.4180685247805683 to 0.46658638006544967\n",
      "loss descend from 0.5131630959264896 to 0.46666032992974216\n",
      "loss descend from 0.6458616208947253 to 0.46673313146076095\n",
      "loss descend from 0.36313632601072604 to 0.4668048111985496\n",
      "loss descend from 0.4413889633730209 to 0.4668753948716071\n",
      "loss descend from 0.5310217628458294 to 0.46694490742767003\n",
      "loss descend from 0.49348682982556874 to 0.4670133730631042\n",
      "loss descend from 0.4258101938968765 to 0.4670808152509783\n",
      "loss descend from 0.5292198442733003 to 0.4671472567678883\n",
      "loss descend from 0.4351666626232273 to 0.4672127197195979\n",
      "loss descend from 0.6605734502801293 to 0.4672772255655528\n",
      "loss descend from 0.4947346131496982 to 0.46734079514232946\n",
      "loss descend from 0.3884682491604104 to 0.46740344868606976\n",
      "loss descend from 0.47159203105214786 to 0.4674652058539526\n",
      "loss descend from 0.4927959455546747 to 0.4675260857447517\n",
      "loss descend from 0.48860129356740617 to 0.46758610691852215\n",
      "loss descend from 0.42368563574078594 to 0.46764528741546224\n",
      "loss descend from 0.46640739621882693 to 0.4677036447739855\n",
      "loss descend from 0.5154934787143135 to 0.4677611960480466\n",
      "loss descend from 0.7276222701071297 to 0.4678179578237534\n",
      "loss descend from 0.5091534954602839 to 0.46787394623529904\n",
      "loss descend from 0.46816188349922727 to 0.4679291769802499\n",
      "loss descend from 0.5857488224126286 to 0.4679836653342144\n",
      "loss descend from 0.6447893693433915 to 0.46803742616492655\n",
      "loss descend from 0.522011360663281 to 0.46809047394576775\n",
      "loss descend from 0.4130186770388884 to 0.46814282276875513\n",
      "loss descend from 0.521904495922767 to 0.46819448635701977\n",
      "loss descend from 0.3994885175522331 to 0.4682454780767976\n",
      "loss descend from 0.41536338337509815 to 0.4682958109489564\n",
      "loss descend from 0.49131318864479895 to 0.4683454976600784\n",
      "loss descend from 0.527976270074006 to 0.468394550573119\n",
      "loss descend from 0.529322853904231 to 0.46844298173766064\n",
      "loss descend from 0.35974955458141217 to 0.46849080289977846\n",
      "loss descend from 0.4970007058365631 to 0.4685380255115367\n",
      "loss descend from 0.5932031536538163 to 0.46858466074012944\n",
      "loss descend from 0.6788472726979116 to 0.46863071947668383\n",
      "loss descend from 0.455207616625974 to 0.4686762123447377\n",
      "loss descend from 0.7131189268386194 to 0.46872114970840756\n",
      "loss descend from 0.5262867225880338 to 0.4687655416802588\n",
      "loss descend from 0.49023707564235036 to 0.468809398128891\n",
      "loss descend from 0.3913990956007935 to 0.4688527286862509\n",
      "loss descend from 0.5420223830379439 to 0.46889554275468365\n",
      "loss descend from 0.5349561999553268 to 0.46893784951373285\n",
      "loss descend from 0.46926836913542747 to 0.4689796579267023\n",
      "loss descend from 0.6086215468754984 to 0.4690209767469838\n",
      "loss descend from 0.6378970623495062 to 0.4690618145241675\n",
      "loss descend from 0.6433152795022914 to 0.46910217960993833\n",
      "loss descend from 0.3977728705108042 to 0.4691420801637756\n",
      "loss descend from 0.4270855300286754 to 0.46918152415842584\n",
      "loss descend from 0.5667111064039217 to 0.4692205193852007\n",
      "loss descend from 0.5932179532327074 to 0.46925907345911466\n",
      "loss descend from 0.7108102828981359 to 0.4692971938228351\n",
      "loss descend from 0.4770637647288202 to 0.46933488775638627\n",
      "loss descend from 0.4668234284425096 to 0.4693721623754156\n",
      "loss descend from 0.38490255927727407 to 0.469409024670229\n",
      "loss descend from 0.6730914762507914 to 0.46944548117616314\n",
      "loss descend from 0.786371772892904 to 0.4694815381436205\n",
      "loss descend from 0.44430521447234667 to 0.4695172050982352\n",
      "loss descend from 0.4375898228406618 to 0.4695524866341552\n",
      "loss descend from 0.5069741077048256 to 0.4695873733708442\n",
      "loss descend from 0.48596229755400755 to 0.4696219277463667\n",
      "loss descend from 0.57799241799489 to 0.46965588851766066\n",
      "loss descend from 0.6339013608611455 to 0.46968921731458907\n",
      "loss descend from 0.4290492250046442 to 0.46972390878433734\n",
      "loss descend from 0.5342996870685847 to 0.46975612925646265\n",
      "loss descend from 0.5196985850633083 to 0.4697863582990932\n",
      "loss descend from 0.42425979283755155 to 0.4698517913712614\n",
      "loss descend from 0.6332209660263053 to 0.46974305754879886\n",
      "loss descend from 0.6193250736781882 to 0.46946603084108207\n",
      "loss descend from 0.467378666966921 to 0.4702450119051541\n",
      "loss descend from 0.5539102629898841 to 0.4675373346386573\n",
      "loss descend from 0.3988723767687588 to 0.47363759210158135\n",
      "loss descend from 0.4025796319851338 to 0.4821622248356848\n",
      "loss descend from 0.5737139581636647 to 0.44220057226713266\n",
      "loss descend from 0.6797105398139566 to 0.3283118906342341\n",
      "loss descend from 0.43741579728741414 to 0.9701873504081238\n",
      "loss descend from 0.4395858716987858 to 0.8965948922019699\n",
      "loss descend from 0.39122400190015866 to 26.630299961455318\n"
     ]
    },
    {
     "data": {
      "image/png": "[encoded data removed]",
      "text/plain": [
       "<Figure size 640x480 with 2 Axes>"
      ]
     },
     "metadata": {},
     "output_type": "display_data"
    }
   ],
   "source": [
    "degree=50\n",
    "alphatop=200\n",
    "leng=200\n",
    "poly=pf(degree=degree)\n",
    "x_train_poly=poly.fit_transform(X_train)\n",
    "X_test_poly=poly.fit_transform(X_test)\n",
    "alpha=np.linspace(0,alphatop,leng)\n",
    "mse_total_r = np.linspace(0, 10, leng)\n",
    "mse_train_r = np.linspace(0, 10, leng)\n",
    "mse_test_r = np.linspace(0, 10, leng)\n",
    "for i in range(leng):\n",
    "    lambda_reg=alpha[i]\n",
    "    model=linearmodel(degree+1,1)\n",
    "    optimize=L2SGD(model=model,lambda_reg=lambda_reg)\n",
    "    loss_fn=MSE(model=model)\n",
    "    fit(model=model,optimize=optimize,loss_fn=loss_fn,X_train=x_train_poly,y_train=y_train)\n",
    "    y_pred_train=model(x_train_poly)\n",
    "    m_train=loss_fn(input=y_pred_train,target=y_train)\n",
    "    y_pred_test=model(X_test_poly)\n",
    "    m_test=loss_fn(input=y_pred_test,target=y_test)\n",
    "    mse_total_r[i]=m_test+m_train\n",
    "    mse_train_r[i]=m_train\n",
    "    mse_test_r[i]=m_test\n",
    "    \n",
    "plt.rc(\"font\", family=\"times new roman\")\n",
    "plt.subplot(2,1,1)\n",
    "plt.plot(alpha[:100], mse_total_r[:100], label=\"mse_total_r\")\n",
    "plt.plot(alpha[:100], mse_test_r[:100], label=\"mse_test_r\")\n",
    "plt.plot(alpha[:100], mse_train_r[:100], label=\"mse_train_r\")\n",
    "plt.subplot(2,1,2)\n",
    "plt.plot(alpha[100:], mse_total_r[100:], label=\"mse_total_r\")\n",
    "plt.plot(alpha[100:], mse_test_r[100:], label=\"mse_test_r\")\n",
    "plt.plot(alpha[100:], mse_train_r[100:], label=\"mse_train_r\")\n",
    "plt.legend(fontsize=\"x-large\")\n",
    "plt.ylabel(\"errors\")\n",
    "plt.xlabel(\"lambda\")\n",
    "plt.show()\n",
    "    "
   ]
  },
  {
   "cell_type": "markdown",
   "metadata": {},
   "source": [
    "### As the logs show, the loss_end is smaller than the loss_start as is expected initially, as the lambda_reg increases the loss_end becomes much larger than less_begin. This is because the loss did not take regularization into account, however the optimization did. Hence the abonormal increase. "
   ]
  },
  {
   "cell_type": "markdown",
   "metadata": {},
   "source": [
    "### As the figure shows, with the lambda_reg increasing, the total_mse is slightly dropping at first, and finnally rocketing sky high. This indicates the process from underregularization to overregularization."
   ]
  }
 ],
 "metadata": {
  "kernelspec": {
   "display_name": "Python 3",
   "language": "python",
   "name": "python3"
  },
  "language_info": {
   "codemirror_mode": {
    "name": "ipython",
    "version": 3
   },
   "file_extension": ".py",
   "mimetype": "text/x-python",
   "name": "python",
   "nbconvert_exporter": "python",
   "pygments_lexer": "ipython3",
   "version": "3.7.16"
  }
 },
 "nbformat": 4,
 "nbformat_minor": 0
}
